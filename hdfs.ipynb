{
 "cells": [
  {
   "cell_type": "code",
   "execution_count": 2,
   "id": "d7ed7033-a188-4e9a-b56f-b90823829950",
   "metadata": {},
   "outputs": [],
   "source": [
    "# importar hdfs y pandas\n",
    "from hdfs import InsecureClient\n",
    "import pandas as pd"
   ]
  },
  {
   "cell_type": "code",
   "execution_count": 3,
   "id": "d5d219e5-6012-4191-bdd9-02859e275a94",
   "metadata": {},
   "outputs": [],
   "source": [
    "#conectarme\n",
    "client = InsecureClient('http://localhost:9870', user='usuarioFAI')"
   ]
  },
  {
   "cell_type": "code",
   "execution_count": 4,
   "id": "42cfee7e-0e18-41b5-a99b-f42e284a05d9",
   "metadata": {},
   "outputs": [],
   "source": [
    "#Crear una carpeta\n",
    "def crearCarpeta():\n",
    "    print(\"Ingrese el nombre de la carpeta a crear\")\n",
    "    nombreCarpeta = input(\"Nombre : \" )\n",
    "\n",
    "    direccion ='/cursoFAI/'+nombreCarpeta\n",
    "    carpeta = client.makedirs(direccion)\n",
    "    if(client.status(hdfs_path= direccion, strict=False)!= None):\n",
    "        print (\"La carpeta \" + nombreCarpeta + \" Fue Creada exitosamente\")\n",
    "    else:\n",
    "        print (\"Error en la creacion de la Carpeta \" + nombreCarpeta + \"\")"
   ]
  },
  {
   "cell_type": "code",
   "execution_count": 5,
   "id": "d58debd1-29fd-41e6-8377-e3c7847b238a",
   "metadata": {},
   "outputs": [],
   "source": [
    "#Crear un archivo (Si existe sobreescribe)\n",
    "def crearArchivo():\n",
    "    print(\"Ingrese nombre del Archivo\")\n",
    "    nombreArchivo = input(\"Nombre: \")\n",
    "    print(\"Ingrese Contenido/Texto del Archivo\")\n",
    "    textoArchivo = input(\"Texto: \")\n",
    "    direccion='/cursoFAI/'+nombreArchivo\n",
    "\n",
    "    arch= client.write(direccion, data=textoArchivo, overwrite=True, permission=None, blocksize=None, replication=None, buffersize=None, append=False, encoding=None)\n",
    "    if(client.status(hdfs_path= direccion, strict=False)!= None):\n",
    "        print (\"El Archivo \" + nombreArchivo + \" Fue Creado exitosamente\")\n",
    "    else:\n",
    "        print (\"Error en la creacion del  Archivo \" + nombreArchivo)"
   ]
  },
  {
   "cell_type": "code",
   "execution_count": null,
   "id": "44b2d359-43a1-446b-95f3-4f4f420e462f",
   "metadata": {},
   "outputs": [],
   "source": [
    "#Agregar datos a un archivo"
   ]
  },
  {
   "cell_type": "code",
   "execution_count": 6,
   "id": "3e2e949b-d7fb-43ed-a046-f2f7aa369d25",
   "metadata": {},
   "outputs": [],
   "source": [
    "#Leer un archivo\n",
    "def leerArchivo():\n",
    "    print(\"Estos Son los archivos disponibles para leer dentro de la carpeta CursoFAI\")\n",
    "    print(client.list('/cursoFAI/', status=False))\n",
    "    print(\"Ingrese nombre del Archivo a leer\")\n",
    "    nombreArchivo = input(\"Nombre: \")\n",
    "    direccion='/cursoFAI/'+nombreArchivo\n",
    "    print(direccion)\n",
    "    leer_con_pandas=input(\"Desea leerlo con pandas? (si/no)\").upper()\n",
    "    if leer_con_pandas=='SI':\n",
    "        with client.read(direccion) as reader:\n",
    "            df=pd.read_csv(reader)\n",
    "            print(df.head())\n",
    "    else:\n",
    "        with client.read(direccion) as reader:\n",
    "            content = reader.describe()()\n",
    "            print(content)"
   ]
  },
  {
   "cell_type": "code",
   "execution_count": 7,
   "id": "aa25fb08-cdf2-4593-8248-1b99582a87c9",
   "metadata": {},
   "outputs": [],
   "source": [
    "#Eliminar un archivo\n",
    "def eliminarArchivo():\n",
    "    print(\"Estos Son los archivos disponibles para borrar dentro de la carpeta CursoFAI\")\n",
    "    print(client.list('/cursoFAI/', status=False))\n",
    "    print(\"Ingrese nombre del Archivo a eliminar\")\n",
    "    nombreArchivo = input(\"Nombre: \")\n",
    "\n",
    "    direccion='/cursoFAI/'+nombreArchivo\n",
    "    if(client.status(hdfs_path= direccion, strict=False)!= None):\n",
    "        client.delete(hdfs_path= direccion, recursive=False, skip_trash=True)\n",
    "        if(client.status(hdfs_path= direccion, strict=False)== None):\n",
    "                print(\"El Archivo \" + nombreArchivo +  \" se Elimino Correctamente\")\n",
    "    else:\n",
    "        print (\"Error, el archivo especificado como \" + nombreArchivo + \" No existe\")"
   ]
  },
  {
   "cell_type": "code",
   "execution_count": 8,
   "id": "de83e475-0bbe-48c4-9283-b62106c0c17c",
   "metadata": {},
   "outputs": [],
   "source": [
    "#Subir un archivo\n",
    "def subirArchivo():\n",
    "    #/home/usuarioFAI/datasets/my_dataset\n",
    "    dir_archivo=input(\"Ingrese la ubicación del archivo: \")\n",
    "    dir_destino=input(\"Ingrese la dirección donde guardarlo: \")\n",
    "    subir = client.upload(dir_destino,dir_archivo)"
   ]
  },
  {
   "cell_type": "code",
   "execution_count": null,
   "id": "fd132e15-3552-45cb-959f-da5f76f5b7f2",
   "metadata": {},
   "outputs": [
    {
     "name": "stdout",
     "output_type": "stream",
     "text": [
      "Elegir una opción: \n",
      " 1 - Crear una carpeta. \n",
      "2 - Crear un archivo (Si existe sobreescribe). \n",
      "3 - Agregar datos a un archivo. \n",
      "4 - Leer un archivo. \n",
      "5 - Eliminar un archivo. \n",
      "6 - Subir un archivo. \n",
      "7 - Salir.\n",
      "\n"
     ]
    },
    {
     "name": "stdin",
     "output_type": "stream",
     "text": [
      "Ingresar Opción 5\n"
     ]
    },
    {
     "name": "stdout",
     "output_type": "stream",
     "text": [
      "Estos Son los archivos disponibles para borrar dentro de la carpeta CursoFAI\n",
      "['my_dataset', 'prueba2', 'user']\n",
      "Ingrese nombre del Archivo a eliminar\n"
     ]
    },
    {
     "name": "stdin",
     "output_type": "stream",
     "text": [
      "Nombre:  /my_dataset/partition/lakes.csv\n"
     ]
    },
    {
     "name": "stdout",
     "output_type": "stream",
     "text": [
      "Error, el archivo especificado como /my_dataset/partition/lakes.csv No existe\n"
     ]
    },
    {
     "name": "stdin",
     "output_type": "stream",
     "text": [
      "Ingresar Opción 5\n"
     ]
    },
    {
     "name": "stdout",
     "output_type": "stream",
     "text": [
      "Estos Son los archivos disponibles para borrar dentro de la carpeta CursoFAI\n",
      "['my_dataset', 'prueba2', 'user']\n",
      "Ingrese nombre del Archivo a eliminar\n"
     ]
    }
   ],
   "source": [
    "#Menú opciones\n",
    "opcion='-1'\n",
    "print(\"Elegir una opción: \\n \"\\\n",
    "     \"1 - Crear una carpeta. \\n\"\\\n",
    "     \"2 - Crear un archivo (Si existe sobreescribe). \\n\"\\\n",
    "     \"3 - Agregar datos a un archivo. \\n\"\\\n",
    "     \"4 - Leer un archivo. \\n\"\\\n",
    "     \"5 - Eliminar un archivo. \\n\"\\\n",
    "    \"6 - Subir un archivo. \\n\"\\\n",
    "     \"7 - Salir.\\n\")\n",
    "while opcion!='7':\n",
    "    opcion=input(\"Ingresar Opción\")\n",
    "    if opcion=='1': crearCarpeta()\n",
    "    if opcion=='2': crearArchivo()\n",
    "    if opcion=='3': agregarDatos()\n",
    "    if opcion=='4': leerArchivo()\n",
    "    if opcion=='5': eliminarArchivo()\n",
    "    if opcion=='6': subirArchivo()"
   ]
  },
  {
   "cell_type": "code",
   "execution_count": null,
   "id": "9357ae0a-ea16-4b42-88d5-cae693ffbdb0",
   "metadata": {},
   "outputs": [],
   "source": []
  }
 ],
 "metadata": {
  "kernelspec": {
   "display_name": "Python 3",
   "language": "python",
   "name": "python3"
  },
  "language_info": {
   "codemirror_mode": {
    "name": "ipython",
    "version": 3
   },
   "file_extension": ".py",
   "mimetype": "text/x-python",
   "name": "python",
   "nbconvert_exporter": "python",
   "pygments_lexer": "ipython3",
   "version": "3.9.4"
  }
 },
 "nbformat": 4,
 "nbformat_minor": 5
}
